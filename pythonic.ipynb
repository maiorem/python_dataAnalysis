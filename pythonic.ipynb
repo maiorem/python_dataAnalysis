{
 "cells": [
  {
   "cell_type": "code",
   "execution_count": 3,
   "metadata": {
    "ExecuteTime": {
     "end_time": "2021-04-03T05:41:07.969049Z",
     "start_time": "2021-04-03T05:41:07.965008Z"
    }
   },
   "outputs": [
    {
     "data": {
      "text/plain": [
       "{0: 'T',\n",
       " 1: 'h',\n",
       " 2: 'e',\n",
       " 3: ' ',\n",
       " 4: 'q',\n",
       " 5: 'u',\n",
       " 6: 'i',\n",
       " 7: 'c',\n",
       " 8: 'k',\n",
       " 9: ' ',\n",
       " 10: 'b',\n",
       " 11: 'r',\n",
       " 12: 'o',\n",
       " 13: 'w',\n",
       " 14: 'n',\n",
       " 15: ' ',\n",
       " 16: 'f',\n",
       " 17: 'o',\n",
       " 18: 'x',\n",
       " 19: ' ',\n",
       " 20: 'j',\n",
       " 21: 'u',\n",
       " 22: 'm',\n",
       " 23: 'p',\n",
       " 24: 's',\n",
       " 25: ' ',\n",
       " 26: 'o',\n",
       " 27: 'v',\n",
       " 28: 'e',\n",
       " 29: 'r',\n",
       " 30: ' ',\n",
       " 31: 't',\n",
       " 32: 'h',\n",
       " 33: 'e',\n",
       " 34: ' ',\n",
       " 35: 'l',\n",
       " 36: 'a',\n",
       " 37: 'z',\n",
       " 38: 'y',\n",
       " 39: ' ',\n",
       " 40: 'd',\n",
       " 41: 'o',\n",
       " 42: 'g'}"
      ]
     },
     "execution_count": 3,
     "metadata": {},
     "output_type": "execute_result"
    }
   ],
   "source": [
    "words=\"The quick brown fox jumps over the lazy dog\"\n",
    "{i:j for i, j in enumerate(words)}"
   ]
  },
  {
   "cell_type": "code",
   "execution_count": 4,
   "metadata": {
    "ExecuteTime": {
     "end_time": "2021-04-03T05:41:17.596400Z",
     "start_time": "2021-04-03T05:41:17.593404Z"
    }
   },
   "outputs": [
    {
     "name": "stdout",
     "output_type": "stream",
     "text": [
      "0 tic\n",
      "1 tac\n",
      "2 toc\n"
     ]
    }
   ],
   "source": [
    "for i, v in enumerate(['tic', 'tac', 'toc']) :\n",
    "    print(i, v)"
   ]
  },
  {
   "cell_type": "code",
   "execution_count": 6,
   "metadata": {
    "ExecuteTime": {
     "end_time": "2021-04-03T05:43:31.880928Z",
     "start_time": "2021-04-03T05:43:31.876983Z"
    }
   },
   "outputs": [
    {
     "name": "stdout",
     "output_type": "stream",
     "text": [
      "(1, 4, 7) (2, 5, 8) (3, 6, 9)\n"
     ]
    }
   ],
   "source": [
    "a, b, c=zip((1, 2, 3), (4, 5, 6), (7, 8, 9))\n",
    "print(a, b, c)"
   ]
  },
  {
   "cell_type": "code",
   "execution_count": 7,
   "metadata": {
    "ExecuteTime": {
     "end_time": "2021-04-03T05:44:16.737915Z",
     "start_time": "2021-04-03T05:44:16.731912Z"
    }
   },
   "outputs": [
    {
     "data": {
      "text/plain": [
       "[111, 222, 333]"
      ]
     },
     "execution_count": 7,
     "metadata": {},
     "output_type": "execute_result"
    }
   ],
   "source": [
    "[sum(x) for x in zip((1,2,3),(10,20,30), (100,200,300))]"
   ]
  },
  {
   "cell_type": "code",
   "execution_count": null,
   "metadata": {},
   "outputs": [],
   "source": []
  }
 ],
 "metadata": {
  "kernelspec": {
   "display_name": "Python 3",
   "language": "python",
   "name": "python3"
  },
  "language_info": {
   "codemirror_mode": {
    "name": "ipython",
    "version": 3
   },
   "file_extension": ".py",
   "mimetype": "text/x-python",
   "name": "python",
   "nbconvert_exporter": "python",
   "pygments_lexer": "ipython3",
   "version": "3.8.5"
  },
  "toc": {
   "base_numbering": 1,
   "nav_menu": {},
   "number_sections": true,
   "sideBar": true,
   "skip_h1_title": false,
   "title_cell": "Table of Contents",
   "title_sidebar": "Contents",
   "toc_cell": false,
   "toc_position": {},
   "toc_section_display": true,
   "toc_window_display": false
  },
  "varInspector": {
   "cols": {
    "lenName": 16,
    "lenType": 16,
    "lenVar": 40
   },
   "kernels_config": {
    "python": {
     "delete_cmd_postfix": "",
     "delete_cmd_prefix": "del ",
     "library": "var_list.py",
     "varRefreshCmd": "print(var_dic_list())"
    },
    "r": {
     "delete_cmd_postfix": ") ",
     "delete_cmd_prefix": "rm(",
     "library": "var_list.r",
     "varRefreshCmd": "cat(var_dic_list()) "
    }
   },
   "types_to_exclude": [
    "module",
    "function",
    "builtin_function_or_method",
    "instance",
    "_Feature"
   ],
   "window_display": false
  }
 },
 "nbformat": 4,
 "nbformat_minor": 4
}
