{
 "cells": [
  {
   "cell_type": "markdown",
   "metadata": {},
   "source": [
    "# 실습 - 외국인 출입국 통계구하기"
   ]
  },
  {
   "cell_type": "markdown",
   "metadata": {},
   "source": [
    "### 데이터 전처리"
   ]
  },
  {
   "cell_type": "code",
   "execution_count": null,
   "metadata": {
    "scrolled": true
   },
   "outputs": [],
   "source": [
    "import pandas as pd \n",
    "kto_201901 = pd.read_excel('./files/kto_201901.xlsx', \n",
    "                          header=1,\n",
    "                          usecols='A:G',\n",
    "                          skipfooter=4)\n",
    "kto_201901.head()"
   ]
  },
  {
   "cell_type": "code",
   "execution_count": null,
   "metadata": {},
   "outputs": [],
   "source": [
    "kto_201901.tail()"
   ]
  },
  {
   "cell_type": "code",
   "execution_count": null,
   "metadata": {},
   "outputs": [],
   "source": [
    "kto_201901.info() # 데이터의 칼럼별 특징"
   ]
  },
  {
   "cell_type": "code",
   "execution_count": null,
   "metadata": {},
   "outputs": [],
   "source": [
    "kto_201901.describe() # 전반적인 수치의 정보 확인"
   ]
  },
  {
   "cell_type": "code",
   "execution_count": null,
   "metadata": {},
   "outputs": [],
   "source": [
    "condition = (kto_201901['관광'] == 0) \\\n",
    "                | (kto_201901['상용'] == 0) \\\n",
    "                | (kto_201901['공용'] == 0) \\\n",
    "                | (kto_201901['유학/연수'] == 0) # 최소값(min)이 0인 데이터의 경우 확인 \n",
    "kto_201901[condition]"
   ]
  },
  {
   "cell_type": "code",
   "execution_count": null,
   "metadata": {},
   "outputs": [],
   "source": [
    "# 기준년월 컬럼 생성하기 \n",
    "kto_201901['기준년월'] = '2019-01'\n",
    "kto_201901.head()"
   ]
  },
  {
   "cell_type": "code",
   "execution_count": null,
   "metadata": {},
   "outputs": [],
   "source": [
    "# 국적데이터 남기기/중복제거 한 값을 보여줌\n",
    "kto_201901['국적'].unique()"
   ]
  },
  {
   "cell_type": "code",
   "execution_count": null,
   "metadata": {},
   "outputs": [],
   "source": [
    "# 대륙목록 만들기 \n",
    "continents_list = ['아시아주', '미주', '구주', '대양주', '아프리카주', '기타대륙', '교포소계']\n",
    "continents_list"
   ]
  },
  {
   "cell_type": "code",
   "execution_count": null,
   "metadata": {},
   "outputs": [],
   "source": [
    "# kto_201901 데이터의 국적 칼럼에서 continents_list 에 포함되지 않는 국가만 선택\n",
    "condition = (kto_201901.국적.isin(continents_list) == False) \n",
    "kto_201901_country = kto_201901[condition]\n",
    "kto_201901_country['국적'].unique()"
   ]
  },
  {
   "cell_type": "code",
   "execution_count": null,
   "metadata": {},
   "outputs": [],
   "source": [
    "kto_201901_country.head()"
   ]
  },
  {
   "cell_type": "code",
   "execution_count": null,
   "metadata": {},
   "outputs": [],
   "source": [
    "# 인덱스 재설정 – 데이터 필터링 시 인덱스 누락이 발생하기 때문에 초기화 해주는 것이 좋다.\n",
    "kto_201901_country_newindex = kto_201901_country.reset_index(drop=True) \n",
    "kto_201901_country_newindex.head()"
   ]
  },
  {
   "cell_type": "code",
   "execution_count": null,
   "metadata": {},
   "outputs": [],
   "source": [
    "# 각 국가들이 어떤 대륙에 속하는지에 대한 정보를 추가하기 위해 \u000b",
    "  대륙칼럼 추가 전 국가별 매칭되는 대륙 확인. 대륙 칼럼에 넣을 리스트 생성.\n",
    "continents = ['아시아']*25 + ['아메리카']*5 + ['유럽']*23 + ['오세아니아']*3 \\\n",
    "+ ['아프리카']*2 + ['기타대륙'] + ['교포']\n",
    "print(continents)"
   ]
  },
  {
   "cell_type": "code",
   "execution_count": null,
   "metadata": {},
   "outputs": [],
   "source": [
    "# 대륙 칼럼 생성\n",
    "kto_201901_country_newindex['대륙'] = continents\n",
    "kto_201901_country_newindex.head()"
   ]
  },
  {
   "cell_type": "code",
   "execution_count": null,
   "metadata": {},
   "outputs": [],
   "source": [
    "kto_201901_country_newindex.tail()"
   ]
  },
  {
   "cell_type": "code",
   "execution_count": null,
   "metadata": {},
   "outputs": [],
   "source": [
    "# 관광객비율 칼럼생성\n",
    "kto_201901_country_newindex['관광객비율(%)'] = \\\n",
    "round(kto_201901_country_newindex['관광'] / kto_201901_country_newindex['계'] * 100, 1)\n",
    "kto_201901_country_newindex.head()"
   ]
  },
  {
   "cell_type": "code",
   "execution_count": null,
   "metadata": {},
   "outputs": [],
   "source": [
    "# 관광객칼럼비율 칼럼으로 내림차순 정렬\n",
    "kto_201901_country_newindex.sort_values(by='관광객비율(%)', ascending=False).head(10)"
   ]
  },
  {
   "cell_type": "code",
   "execution_count": null,
   "metadata": {},
   "outputs": [],
   "source": [
    "# 관광객칼럼비율 칼럼으로 오름차순 정렬\n",
    "kto_201901_country_newindex.sort_values(by='관광객비율(%)', ascending=True).head()"
   ]
  },
  {
   "cell_type": "code",
   "execution_count": null,
   "metadata": {},
   "outputs": [],
   "source": [
    "# 대륙별 관광객 비율의 평균\n",
    "kto_201901_country_newindex.pivot_table(values = '관광객비율(%)',\n",
    "                                       index = '대륙',\n",
    "                                       aggfunc = 'mean')"
   ]
  },
  {
   "cell_type": "code",
   "execution_count": null,
   "metadata": {},
   "outputs": [],
   "source": [
    "# 기준년월별로 전체 외국인 관광객 대비 국적별 관광객 비율\n",
    "# 2019년 1월 우리나라 방문하는 전체 외국인 관광객 숫자 구하기 \n",
    "tourist_sum = sum(kto_201901_country_newindex['관광'])\n",
    "tourist_sum "
   ]
  },
  {
   "cell_type": "code",
   "execution_count": null,
   "metadata": {},
   "outputs": [],
   "source": [
    "#전체비율(%) 컬럼 생성\n",
    "kto_201901_country_newindex['전체비율(%)'] = \\\n",
    "round(kto_201901_country_newindex['관광'] / tourist_sum * 100, 1)\n",
    "kto_201901_country_newindex.head()"
   ]
  },
  {
   "cell_type": "code",
   "execution_count": null,
   "metadata": {},
   "outputs": [],
   "source": [
    "# 전체비율(%) 컬럼 기준으로 내림차순 정렬하기 \n",
    "kto_201901_country_newindex.sort_values('전체비율(%)', ascending=False).head()"
   ]
  },
  {
   "cell_type": "code",
   "execution_count": null,
   "metadata": {},
   "outputs": [],
   "source": [
    "def create_kto_data(yy, mm):  \n",
    "    # 불러올 Excel 파일 경로를 지정해주기\n",
    "    file_path = './files/kto_{}{}.xlsx'.format(yy, mm)     \n",
    "    # Excel 파일 불러오기 \n",
    "    df = pd.read_excel(file_path, header=1, skipfooter=4, usecols='A:G')    \n",
    "    # \"기준년월\" 컬럼 추가하기 \n",
    "    df['기준년월'] = '{}-{}'.format(yy, mm)     \n",
    "    # \"국적\" 컬럼에서 대륙 제거하고 국가만 남기기 \n",
    "    ignore_list = ['아시아주', '미주', '구주', '대양주', '아프리카주', '기타대륙', '교포소계']    # 제거할 대륙명 선정하기 \n",
    "    condition = (df['국적'].isin(ignore_list) == False)    # 대륙 미포함 조건 \n",
    "    df_country = df[condition].reset_index(drop=True)  \n",
    "    # 대륙 컬럼 생성을 위한 목록 만들어 놓기\n",
    "    continents = ['아시아']*25 + ['아메리카']*5 + ['유럽']*23 + ['대양주']*3 + ['아프리카']*2 + ['기타대륙'] + ['교포']\n",
    "    # \"대륙\" 컬럼 추가하기 \n",
    "    df_country['대륙'] = continents                          \n",
    "    # 국가별 \"관광객비율(%)\" 컬럼 추가하기 \n",
    "    df_country['관광객비율(%)'] = round(df_country.관광 / df_country.계 * 100, 1)                        \n",
    "    # \"전체비율(%)\" 컬럼 추가하기 \n",
    "    tourist_sum = sum(df_country['관광'])\n",
    "    df_country['전체비율(%)'] = round(df_country['관광'] / tourist_sum * 100, 1)    \n",
    "    # 결과 출력하기 \n",
    "    return(df_country)"
   ]
  },
  {
   "cell_type": "code",
   "execution_count": null,
   "metadata": {},
   "outputs": [],
   "source": [
    "# 2018년 12월 데이터 불러오기\n",
    "kto_test = create_kto_data(2018, 12)\n",
    "kto_test.head()"
   ]
  },
  {
   "cell_type": "code",
   "execution_count": null,
   "metadata": {},
   "outputs": [],
   "source": [
    "# 2018년 12월 데이터 불러오기\n",
    "kto_test = create_kto_data(2021, 3)\n",
    "kto_test.head()"
   ]
  },
  {
   "cell_type": "code",
   "execution_count": null,
   "metadata": {},
   "outputs": [],
   "source": [
    "for yy in range(2010, 2021):\n",
    "    for mm in range(1, 13):\n",
    "        mm_str = str(mm).zfill(2) # zfill함수를 이용, 0을 포함한 두 자리로 출력\n",
    "        yymm = '{}{}'.format(yy, mm_str)\n",
    "        print(yymm)"
   ]
  },
  {
   "cell_type": "code",
   "execution_count": null,
   "metadata": {},
   "outputs": [],
   "source": [
    "# 통합 데이터 생성하기 \n",
    "df = pd.DataFrame()\n",
    "\n",
    "# 패턴 분석결과를 이중 반복문을 통해 구현 \n",
    "for yy in range(2010, 2021):\n",
    "    for mm in range(1, 13):\n",
    "        # try 이하 구문을 실행 \n",
    "        try:\n",
    "            # 앞서 만든 create_kto_data 함수로 Excel 데이터를 temp 에 불러오기 \n",
    "            temp = create_kto_data(str(yy), str(mm).zfill(2))\n",
    "            # temp 로 불러온 데이터를 df 밑으로 추가하기 \n",
    "            df = df.append(temp, ignore_index=True)\n",
    "        # 만약 try 구문에서 에러가 발생하면 except 이후를 실행 \n",
    "        except:\n",
    "            pass"
   ]
  },
  {
   "cell_type": "code",
   "execution_count": null,
   "metadata": {},
   "outputs": [],
   "source": [
    "df.info()"
   ]
  },
  {
   "cell_type": "code",
   "execution_count": null,
   "metadata": {},
   "outputs": [],
   "source": [
    "df.head()"
   ]
  },
  {
   "cell_type": "code",
   "execution_count": null,
   "metadata": {},
   "outputs": [],
   "source": [
    "df.tail()"
   ]
  },
  {
   "cell_type": "code",
   "execution_count": null,
   "metadata": {},
   "outputs": [],
   "source": [
    "df.to_excel('./files/kto_total.xlsx', index = False)"
   ]
  },
  {
   "cell_type": "markdown",
   "metadata": {},
   "source": [
    "### 시각화"
   ]
  },
  {
   "cell_type": "code",
   "execution_count": null,
   "metadata": {},
   "outputs": [],
   "source": [
    "from matplotlib import font_manager, rc\n",
    "import platform \n",
    "\n",
    "if platform.system() == 'Windows': \n",
    "    path = 'c:/Windows/Fonts/malgun.ttf'\n",
    "    font_name = font_manager.FontProperties(fname=path).get_name()\n",
    "    rc('font', family=font_name)\n",
    "elif platform.system() == 'Darwin':\n",
    "    rc('font', family='AppleGothic')\n",
    "else: \n",
    "    print('Check your OS system')\n"
   ]
  },
  {
   "cell_type": "code",
   "execution_count": null,
   "metadata": {},
   "outputs": [],
   "source": [
    "import matplotlib.pyplot as plt"
   ]
  },
  {
   "cell_type": "code",
   "execution_count": null,
   "metadata": {},
   "outputs": [],
   "source": [
    "# 중국 국적 데이터 필터링하기 \n",
    "condition = (df['국적'] == '중국')\n",
    "df_filter = df[condition]\n",
    "df_filter.head()"
   ]
  },
  {
   "cell_type": "code",
   "execution_count": null,
   "metadata": {},
   "outputs": [],
   "source": [
    "# 시계열 그래프 그리기 1\n",
    "plt.plot(df_filter['기준년월'], df_filter['관광'])\n",
    "plt.show()"
   ]
  },
  {
   "cell_type": "code",
   "execution_count": null,
   "metadata": {},
   "outputs": [],
   "source": [
    "# 그래프 크기 조절 \n",
    "plt.figure(figsize = (12, 4))\n",
    "# 그래프 내용 설정 \n",
    "plt.plot(df_filter['기준년월'], df_filter['관광'], 'g--*', lw=1)\n",
    "# 그래프 타이틀, X축, Y축 이름 달기 \n",
    "plt.title('중국 국적의 관광객 추이')\n",
    "plt.xlabel('기준년월')\n",
    "plt.ylabel('관광객수')\n",
    "# x 축 눈금 값 설정 \n",
    "plt.xticks(['2010-01', '2011-01', '2012-01', '2013-01', '2014-01', '2015-01', '2016-01', '2017-01', '2018-01', '2019-01', '2020-01'])\n",
    "# 그래프 표현하기 \n",
    "plt.show()"
   ]
  },
  {
   "cell_type": "code",
   "execution_count": null,
   "metadata": {},
   "outputs": [],
   "source": [
    "# 우리나라 방문하는 외국인 관광객 중 상위 5개 국가 리스트 생성\n",
    "cntry_list = ['중국', '일본', '대만', '미국', '홍콩']"
   ]
  },
  {
   "cell_type": "code",
   "execution_count": null,
   "metadata": {},
   "outputs": [],
   "source": [
    "for cntry in cntry_list: \n",
    "    # 국적 같은 정보 추출하기 \n",
    "    condition = (df['국적'] == cntry)\n",
    "    df_filter = df[condition]    \n",
    "    # 그래프 크기 조절 \n",
    "    plt.figure(figsize = (12, 4))    \n",
    "    # 그래프 내용 설정 \n",
    "    plt.plot(df_filter['기준년월'], df_filter['관광'])\n",
    "    # 그래프 타이틀, X축, Y축 이름 달기 \n",
    "    plt.title('{} 국적의 관광객 추이'.format(cntry))\n",
    "    plt.xlabel('기준년월')\n",
    "    plt.ylabel('관광객수')\n",
    "    # x 축 눈금 값 설정 \n",
    "    plt.xticks(['2010-01', '2011-01', '2012-01', '2013-01', '2014-01', '2015-01', '2016-01', '2017-01', '2018-01', '2019-01', '2020-01'])\n",
    "    # 그래프 표현하기 \n",
    "    plt.show()"
   ]
  },
  {
   "cell_type": "code",
   "execution_count": null,
   "metadata": {},
   "outputs": [],
   "source": [
    "df['년도'] = df['기준년월'].str.slice(0,4)\n",
    "df['월'] = df['기준년월'].str.slice(5, 7)\n",
    "df.head()"
   ]
  },
  {
   "cell_type": "code",
   "execution_count": null,
   "metadata": {},
   "outputs": [],
   "source": [
    "condition = (df['국적'] == '중국')\t# 중국인 관광객 필터링\n",
    "df_filter = df[condition]\n",
    "df_filter.head()"
   ]
  },
  {
   "cell_type": "code",
   "execution_count": null,
   "metadata": {},
   "outputs": [],
   "source": [
    "# df_filter 데이터를 매트릭스 형태로 변환\n",
    "df_pivot = df_filter.pivot_table(values = '관광' # 내부 표현값\n",
    "                         , index = '년도' # Y축\n",
    "                         , columns = '월') # X축\n",
    "df_pivot"
   ]
  },
  {
   "cell_type": "code",
   "execution_count": null,
   "metadata": {},
   "outputs": [],
   "source": [
    "# seaborn 라이브러리 필요. 항상 matplotlib 함께 임포트 해야함.\u000b",
    "# seaborn 라이브러리는 matplotlib 라이브러리에 종속되기 때문 \n",
    "import matplotlib.pyplot as plt \n",
    "import seaborn as sns "
   ]
  },
  {
   "cell_type": "code",
   "execution_count": null,
   "metadata": {},
   "outputs": [],
   "source": [
    "# 그래프 크기 설정 \n",
    "plt.figure(figsize = (16, 10))\n",
    "# 히트맵 그래프 그리기 \n",
    "sns.heatmap(df_pivot, annot = True, fmt = '.0f', cmap = 'rocket_r')\n",
    "# 그래프 타이틀 달기 \n",
    "plt.title('중국 관광객 히트맵')\n",
    "# 그래프 표현 \n",
    "plt.show()"
   ]
  },
  {
   "cell_type": "code",
   "execution_count": null,
   "metadata": {},
   "outputs": [],
   "source": []
  }
 ],
 "metadata": {
  "kernelspec": {
   "display_name": "Python 3",
   "language": "python",
   "name": "python3"
  },
  "language_info": {
   "codemirror_mode": {
    "name": "ipython",
    "version": 3
   },
   "file_extension": ".py",
   "mimetype": "text/x-python",
   "name": "python",
   "nbconvert_exporter": "python",
   "pygments_lexer": "ipython3",
   "version": "3.7.6"
  }
 },
 "nbformat": 4,
 "nbformat_minor": 4
}
