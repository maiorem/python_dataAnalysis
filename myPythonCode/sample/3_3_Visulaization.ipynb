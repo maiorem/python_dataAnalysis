{
 "cells": [
  {
   "cell_type": "markdown",
   "metadata": {},
   "source": [
    "# 3.3 데이터 시각화 하기 "
   ]
  },
  {
   "cell_type": "markdown",
   "metadata": {},
   "source": [
    "### 3.3.2. 시계열 그래프 그리기"
   ]
  },
  {
   "cell_type": "code",
   "execution_count": null,
   "metadata": {},
   "outputs": [],
   "source": [
    "# 예제 3-37 kto_total.xlsx 파일 df로 불러오기 \n",
    "import pandas as pd \n",
    "df = pd.read_excel('./files/kto_total.xlsx')\n",
    "df.head()"
   ]
  },
  {
   "cell_type": "code",
   "execution_count": null,
   "metadata": {},
   "outputs": [],
   "source": [
    "# 예제 3-38 그래프에서 한글 표기를 위한 글자체 변경(윈도우, 맥os 각각의 경우에 대해서 처리)\n",
    "from matplotlib import font_manager, rc\n",
    "import platform \n",
    "\n",
    "if platform.system() == 'Windows': \n",
    "    path = 'c:/Windows/Fonts/malgun.ttf'\n",
    "    font_name = font_manager.FontProperties(fname=path).get_name()\n",
    "    rc('font', family=font_name)\n",
    "elif platform.system() == 'Darwin':\n",
    "    rc('font', family='AppleGothic')\n",
    "else: \n",
    "    print('Check your OS system')\n"
   ]
  },
  {
   "cell_type": "code",
   "execution_count": null,
   "metadata": {},
   "outputs": [],
   "source": [
    "# 예제 3-39 matplotlib 라이브러리 불러오기 \n",
    "import matplotlib.pyplot as plt"
   ]
  },
  {
   "cell_type": "code",
   "execution_count": null,
   "metadata": {},
   "outputs": [],
   "source": [
    "# 예제 3-40 중국 국적 데이터 필터링하기 \n",
    "condition = (df['국적'] == '중국')\n",
    "df_filter = df[condition]\n",
    "df_filter.head()"
   ]
  },
  {
   "cell_type": "code",
   "execution_count": null,
   "metadata": {},
   "outputs": [],
   "source": [
    "# 예제 3-41 시계열 그래프 그리기 1\n",
    "plt.plot(df_filter['기준년월'], df_filter['관광'])\n",
    "plt.show()"
   ]
  },
  {
   "cell_type": "code",
   "execution_count": null,
   "metadata": {},
   "outputs": [],
   "source": [
    "# 예제 3-42 시계열 그래프 그리기 2(꾸미기)\n",
    "## 그래프 크기 조절 \n",
    "plt.figure(figsize = (12, 4))\n",
    "\n",
    "## 그래프 내용 설정 \n",
    "plt.plot(df_filter['기준년월'], df_filter['관광'])\n",
    "\n",
    "## 그래프 타이틀, X축, Y축 이름 달기 \n",
    "plt.title('중국 국적의 관광객 추이')\n",
    "plt.xlabel('기준년월')\n",
    "plt.ylabel('관광객수')\n",
    "\n",
    "## x 축 눈금 값 설정 \n",
    "plt.xticks(['2010-01', '2011-01', '2012-01', '2013-01', '2014-01', '2015-01', '2016-01', '2017-01', '2018-01', '2019-01'])\n",
    "\n",
    "## 그래프 표현하기 \n",
    "plt.show()"
   ]
  },
  {
   "cell_type": "code",
   "execution_count": null,
   "metadata": {},
   "outputs": [],
   "source": [
    "# 예제 3-43 우리나라 방문하는 외국인 관관객 top5 리스트 만들기 \n",
    "cntry_list = ['중국', '일본', '대만', '미국', '홍콩']"
   ]
  },
  {
   "cell_type": "code",
   "execution_count": null,
   "metadata": {},
   "outputs": [],
   "source": [
    "# 예제 3-44 반복문으로 여러 그래프 그리기 \n",
    "for cntry in cntry_list: \n",
    "    # 국적 관광객만 추출하기 \n",
    "    condition = (df['국적'] == cntry)\n",
    "    df_filter = df[condition]\n",
    "\n",
    "    # 그래프 그리기 \n",
    "    ## 그래프 크기 조절 \n",
    "    plt.figure(figsize = (12, 4))\n",
    "    \n",
    "    ## 그래프 내용 설정 \n",
    "    plt.plot(df_filter['기준년월'], df_filter['관광'])\n",
    "\n",
    "    ## 그래프 타이틀, X축, Y축 이름 달기 \n",
    "    plt.title('{} 국적의 관광객 추이'.format(cntry))\n",
    "    plt.xlabel('기준년월')\n",
    "    plt.ylabel('관광객수')\n",
    "\n",
    "    ## x 축 눈금 값 설정 \n",
    "    plt.xticks(['2010-01', '2011-01', '2012-01', '2013-01', '2014-01', '2015-01', '2016-01', '2017-01', '2018-01', '2019-01'])\n",
    "\n",
    "    ## 그래프 표현하기 \n",
    "    plt.show()"
   ]
  },
  {
   "cell_type": "markdown",
   "metadata": {},
   "source": [
    "### 3.3.3. 히트맵 그래프 그리기"
   ]
  },
  {
   "cell_type": "code",
   "execution_count": null,
   "metadata": {},
   "outputs": [],
   "source": [
    "# 예제 3-45 df 데이터 head() 함수로 살펴보기 \n",
    "df.head()"
   ]
  },
  {
   "cell_type": "code",
   "execution_count": null,
   "metadata": {},
   "outputs": [],
   "source": [
    "# 예제 3-46 str.slice() 함수를 이용해 년도, 월 컬럼 만들기 \n",
    "df['년도'] = df['기준년월'].str.slice(0,4)\n",
    "df['월'] = df['기준년월'].str.slice(5, 7)\n",
    "df.head()"
   ]
  },
  {
   "cell_type": "code",
   "execution_count": null,
   "metadata": {},
   "outputs": [],
   "source": [
    "# 예제 3-47 중국인 관광객 필터링하기\n",
    "condition = (df['국적'] == '중국')\n",
    "df_filter = df[condition]\n",
    "df_filter.head()"
   ]
  },
  {
   "cell_type": "code",
   "execution_count": null,
   "metadata": {},
   "outputs": [],
   "source": [
    "# 예제 3-48 pivot_table() 함수 이용하기 \n",
    "df_pivot = df_filter.pivot_table(values = '관광'\n",
    "                         , index = '년도'\n",
    "                         , columns = '월')\n",
    "\n",
    "df_pivot"
   ]
  },
  {
   "cell_type": "code",
   "execution_count": null,
   "metadata": {},
   "outputs": [],
   "source": [
    "# 예제 3-49 히트맵 그래프 그리기에 필요한 라이브러리 import \n",
    "import matplotlib.pyplot as plt \n",
    "import seaborn as sns "
   ]
  },
  {
   "cell_type": "code",
   "execution_count": null,
   "metadata": {},
   "outputs": [],
   "source": [
    "# 예제 3-50 히트맵 그리프 그리기 \n",
    "## 그래프 크기 설정 \n",
    "plt.figure(figsize = (16, 10))\n",
    "\n",
    "## 히트맵 그래프 그리기 \n",
    "sns.heatmap(df_pivot, annot = True, fmt = '.0f', cmap = 'rocket_r')\n",
    "\n",
    "## 그래프 타이틀 달기 \n",
    "plt.title('중국 관광객 히트맵')\n",
    "\n",
    "## 그래프 표현 \n",
    "plt.show()"
   ]
  },
  {
   "cell_type": "code",
   "execution_count": null,
   "metadata": {
    "scrolled": true
   },
   "outputs": [],
   "source": [
    "# 예제 3-51 반복문으로 top5 국가 히트맵 그래프 그리기 \n",
    "for cntry in cntry_list: \n",
    "    condition = (df['국적'] == cntry)\n",
    "    df_filter = df[condition]\n",
    "    \n",
    "    df_pivot = df_filter.pivot_table(values = '관광'\n",
    "                             , index = '년도'\n",
    "                             , columns = '월')\n",
    "    \n",
    "    # 그래프 크기 설정 \n",
    "    plt.figure(figsize = (16, 10))\n",
    "\n",
    "    # 히트맵 그래프 그리기 \n",
    "    sns.heatmap(df_pivot, annot = True, fmt = '.0f', cmap = 'rocket_r')\n",
    "\n",
    "    # 그래프 타이틀 달기 \n",
    "    plt.title('{} 관광객 히트맵'.format(cntry))\n",
    "\n",
    "    # 그래프 표현 \n",
    "    plt.show()"
   ]
  },
  {
   "cell_type": "code",
   "execution_count": null,
   "metadata": {},
   "outputs": [],
   "source": []
  }
 ],
 "metadata": {
  "kernelspec": {
   "display_name": "Python 3",
   "language": "python",
   "name": "python3"
  },
  "language_info": {
   "codemirror_mode": {
    "name": "ipython",
    "version": 3
   },
   "file_extension": ".py",
   "mimetype": "text/x-python",
   "name": "python",
   "nbconvert_exporter": "python",
   "pygments_lexer": "ipython3",
   "version": "3.7.6"
  }
 },
 "nbformat": 4,
 "nbformat_minor": 2
}
