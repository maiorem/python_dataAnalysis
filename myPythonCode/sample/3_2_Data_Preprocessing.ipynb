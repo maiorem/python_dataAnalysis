{
 "cells": [
  {
   "cell_type": "markdown",
   "metadata": {},
   "source": [
    "# 3.2 데이터 불러오기 및 전처리"
   ]
  },
  {
   "cell_type": "markdown",
   "metadata": {},
   "source": [
    "### 3.2.1 불러올 데이터의 형태 파악"
   ]
  },
  {
   "cell_type": "code",
   "execution_count": null,
   "metadata": {},
   "outputs": [],
   "source": [
    "# 예제 3-1 kto_201901.xlsx 엑셀 데이터 불러오기\n",
    "import pandas as pd \n",
    "kto_201901 = pd.read_excel('./files/kto_201901.xlsx', \n",
    "                          header=1,\n",
    "                          usecols='A:G',\n",
    "                          skipfooter=4)\n",
    "kto_201901.head()"
   ]
  },
  {
   "cell_type": "code",
   "execution_count": null,
   "metadata": {},
   "outputs": [],
   "source": [
    "# 예제 3-2 tail() 함수 활용하기 \n",
    "kto_201901.tail()"
   ]
  },
  {
   "cell_type": "markdown",
   "metadata": {},
   "source": [
    "### 3.2.3. 데이터 전처리 하기"
   ]
  },
  {
   "cell_type": "code",
   "execution_count": null,
   "metadata": {
    "scrolled": true
   },
   "outputs": [],
   "source": [
    "# 예제 3-3 info() 함수 활용하기 \n",
    "kto_201901.info()"
   ]
  },
  {
   "cell_type": "code",
   "execution_count": null,
   "metadata": {},
   "outputs": [],
   "source": [
    "# 예제 3-4 describe() 함수 활용하기 \n",
    "kto_201901.describe()"
   ]
  },
  {
   "cell_type": "code",
   "execution_count": null,
   "metadata": {},
   "outputs": [],
   "source": [
    "# 예제 3-5 각 컬럼에서 0인 부분 필터링하기 \n",
    "condition = (kto_201901['관광'] == 0) \\\n",
    "                | (kto_201901['상용'] == 0) \\\n",
    "                | (kto_201901['공용'] == 0) \\\n",
    "                | (kto_201901['유학/연수'] == 0) \n",
    "kto_201901[condition]"
   ]
  },
  {
   "cell_type": "code",
   "execution_count": null,
   "metadata": {},
   "outputs": [],
   "source": [
    "# 예제 3-6 기준년월 컬럼 생성하기 \n",
    "kto_201901['기준년월'] = '2019-01'\n",
    "kto_201901.head()"
   ]
  },
  {
   "cell_type": "code",
   "execution_count": null,
   "metadata": {},
   "outputs": [],
   "source": [
    "# 예제 3-7  unique() 함수 활용하기 \n",
    "kto_201901['국적'].unique()"
   ]
  },
  {
   "cell_type": "code",
   "execution_count": null,
   "metadata": {},
   "outputs": [],
   "source": [
    "# 예제 3-8 대륙목록 만들기 \n",
    "continents_list = ['아시아주', '미주', '구주', '대양주', '아프리카주', '기타대륙', '교포소계']\n",
    "continents_list"
   ]
  },
  {
   "cell_type": "code",
   "execution_count": null,
   "metadata": {},
   "outputs": [],
   "source": [
    "# 예제 3-9 대륙목록에 해당하는 값 제외하기 \n",
    "condition = (kto_201901.국적.isin(continents_list) == False) \n",
    "kto_201901_country = kto_201901[condition]\n",
    "kto_201901_country['국적'].unique()"
   ]
  },
  {
   "cell_type": "code",
   "execution_count": null,
   "metadata": {},
   "outputs": [],
   "source": [
    "# 예제 3-10 kto_201901_country 데이터 head() 함수로 확인하기 \n",
    "kto_201901_country.head()"
   ]
  },
  {
   "cell_type": "code",
   "execution_count": null,
   "metadata": {},
   "outputs": [],
   "source": [
    "# 예제 3-11  index 재설정하기 \n",
    "kto_201901_country_newindex = kto_201901_country.reset_index(drop=True) \n",
    "kto_201901_country_newindex.head()"
   ]
  },
  {
   "cell_type": "code",
   "execution_count": null,
   "metadata": {},
   "outputs": [],
   "source": [
    "# 예제 3-12 대륙 컬럼값 만들기\n",
    "continents = ['아시아']*25 + ['아메리카']*5 + ['유럽']*23 + ['오세아니아']*3 \\\n",
    "+ ['아프리카']*2 + ['기타대륙'] + ['교포']\n",
    "print(continents)"
   ]
  },
  {
   "cell_type": "code",
   "execution_count": null,
   "metadata": {},
   "outputs": [],
   "source": [
    "# 예제 3-13 대륙 컬럼 생성하기 \n",
    "kto_201901_country_newindex['대륙'] = continents\n",
    "kto_201901_country_newindex.head()"
   ]
  },
  {
   "cell_type": "code",
   "execution_count": null,
   "metadata": {},
   "outputs": [],
   "source": [
    "# 예제 3-14 kto_201901_country_newindex 데이터 tail() 확인하기 \n",
    "kto_201901_country_newindex.tail()"
   ]
  },
  {
   "cell_type": "code",
   "execution_count": null,
   "metadata": {},
   "outputs": [],
   "source": [
    "# 예제 3-15 관광객비율(%) 컬럼 생성하기 \n",
    "kto_201901_country_newindex['관광객비율(%)'] = \\\n",
    "round(kto_201901_country_newindex['관광'] / kto_201901_country_newindex['계'] * 100, 1)\n",
    "kto_201901_country_newindex.head()"
   ]
  },
  {
   "cell_type": "code",
   "execution_count": null,
   "metadata": {},
   "outputs": [],
   "source": [
    "# 예제 3-16 관광객비율(%) 컬럼으로 내림차순 정렬하기  \n",
    "kto_201901_country_newindex.sort_values(by='관광객비율(%)', ascending=False).head()"
   ]
  },
  {
   "cell_type": "code",
   "execution_count": null,
   "metadata": {},
   "outputs": [],
   "source": [
    "# 예제 3-17 관광객비율(%) 컬럼으로 오름차순 정렬하기\n",
    "kto_201901_country_newindex.sort_values(by='관광객비율(%)', ascending=True).head()"
   ]
  },
  {
   "cell_type": "code",
   "execution_count": null,
   "metadata": {},
   "outputs": [],
   "source": [
    "# 예제 3-18 pivot_table() 함수 활용하기 \n",
    "kto_201901_country_newindex.pivot_table(values = '관광객비율(%)',\n",
    "                                       index = '대륙',\n",
    "                                       aggfunc = 'mean')"
   ]
  },
  {
   "cell_type": "code",
   "execution_count": null,
   "metadata": {},
   "outputs": [],
   "source": [
    "# 예제 3-19 중국 국적만 필터링하기 \n",
    "condition = (kto_201901_country_newindex.국적 == '중국')\n",
    "kto_201901_country_newindex[condition]"
   ]
  },
  {
   "cell_type": "code",
   "execution_count": null,
   "metadata": {},
   "outputs": [],
   "source": [
    "# 예제 3-20 2019년 1월 우리나라 방문하는 전체 외국인 관광객 숫자 구하기 \n",
    "tourist_sum = sum(kto_201901_country_newindex['관광'])\n",
    "tourist_sum "
   ]
  },
  {
   "cell_type": "code",
   "execution_count": null,
   "metadata": {},
   "outputs": [],
   "source": [
    "# 예제 3-21 전체비율(%) 컬럼 생성하기\n",
    "kto_201901_country_newindex['전체비율(%)'] = \\\n",
    "round(kto_201901_country_newindex['관광'] / tourist_sum * 100, 1)\n",
    "kto_201901_country_newindex.head()"
   ]
  },
  {
   "cell_type": "code",
   "execution_count": null,
   "metadata": {},
   "outputs": [],
   "source": [
    "# 예제 3-22 전체비율(%) 컬럼 기준으로 내림차순 정렬하기 \n",
    "kto_201901_country_newindex.sort_values('전체비율(%)', ascending=False).head()"
   ]
  },
  {
   "cell_type": "markdown",
   "metadata": {},
   "source": [
    "### 2.2.4. 데이터 전처리 과정 함수로 만들기 "
   ]
  },
  {
   "cell_type": "code",
   "execution_count": null,
   "metadata": {},
   "outputs": [],
   "source": [
    "#예제 2-23 create_kto_data 함수 생성하기 \n",
    "def create_kto_data(yy, mm):  \n",
    "    #1. 불러올 Excel 파일 경로를 지정해주기\n",
    "    file_path = './files/kto_{}{}.xlsx'.format(yy, mm)  \n",
    "    \n",
    "    # 2. Excel 파일 불러오기 \n",
    "    df = pd.read_excel(file_path, header=1, skipfooter=4, usecols='A:G')\n",
    "    \n",
    "    # 3. \"기준년월\" 컬럼 추가하기 \n",
    "    df['기준년월'] = '{}-{}'.format(yy, mm) \n",
    "    \n",
    "    # 4. \"국적\" 컬럼에서 대륙 제거하고 국가만 남기기 \n",
    "    ignore_list = ['아시아주', '미주', '구주', '대양주', '아프리카주', '기타대륙', '교포소계']    # 제거할 대륙명 선정하기 \n",
    "    condition = (df['국적'].isin(ignore_list) == False)    # 대륙 미포함 조건 \n",
    "    df_country = df[condition].reset_index(drop=True) \n",
    "    \n",
    "    # 5. \"대륙\" 컬럼 추가하기 \n",
    "    continents = ['아시아']*25 + ['아메리카']*5 + ['유럽']*23 + ['대양주']*3 + ['아프리카']*2 + ['기타대륙'] + ['교포']    # 대륙 컬럼 생성을 위한 목록 만들어 놓기 \n",
    "    df_country['대륙'] = continents   \n",
    "                       \n",
    "    # 6. 국가별 \"관광객비율(%)\" 컬럼 추가하기 \n",
    "    df_country['관광객비율(%)'] = round(df_country.관광 / df_country.계 * 100, 1) \n",
    "                       \n",
    "    # 7. \"전체비율(%)\" 컬럼 추가하기 \n",
    "    tourist_sum = sum(df_country['관광'])\n",
    "    df_country['전체비율(%)'] = round(df_country['관광'] / tourist_sum * 100, 1)\n",
    "    \n",
    "    # 8. 결과 출력하기 \n",
    "    return(df_country)\n"
   ]
  },
  {
   "cell_type": "code",
   "execution_count": null,
   "metadata": {},
   "outputs": [],
   "source": [
    "# 예제 2-24 create_kto_data() 함수를 활용해서 2018년 12월 데이터 불러오기  \n",
    "kto_test = create_kto_data(2018, 12)\n",
    "kto_test.head()"
   ]
  },
  {
   "cell_type": "markdown",
   "metadata": {},
   "source": [
    "### 3.2.5. 반복문(for문)을 통해 다수의 엑셀 데이터 불러와서 합치기 "
   ]
  },
  {
   "cell_type": "code",
   "execution_count": null,
   "metadata": {},
   "outputs": [],
   "source": [
    "# 예제 3-25 이중 반복문으로 기준년월 출력하기 \n",
    "for yy in range(2010, 2020): \n",
    "    for mm in range(1, 13): \n",
    "        yymm = '{}{}'.format(yy, mm)\n",
    "        print(yymm)"
   ]
  },
  {
   "cell_type": "code",
   "execution_count": null,
   "metadata": {},
   "outputs": [],
   "source": [
    "# 예제 3-26 숫자 1 출력하기 \n",
    "mm = 1 \n",
    "print(mm) "
   ]
  },
  {
   "cell_type": "code",
   "execution_count": null,
   "metadata": {},
   "outputs": [],
   "source": [
    "# 예제 3-27 zfill() 함수 이용하기 1(0을 포함한 두 자리로 출력하기)\n",
    "print(str(mm).zfill(2))"
   ]
  },
  {
   "cell_type": "code",
   "execution_count": null,
   "metadata": {},
   "outputs": [],
   "source": [
    "# 예제 3-28 zfill() 함수 이용하기 1(0을 포함한 3자리, 4자리로 출력하기)\n",
    "print(str(mm).zfill(3))\n",
    "print(str(mm).zfill(4))"
   ]
  },
  {
   "cell_type": "code",
   "execution_count": null,
   "metadata": {},
   "outputs": [],
   "source": [
    "# 예제 3-29 6자리로 정렬하여 기준년월 출력하기 \n",
    "for yy in range(2010, 2020):\n",
    "    for mm in range(1, 13):\n",
    "        mm_str = str(mm).zfill(2)\n",
    "        yymm = '{}{}'.format(yy, mm_str)\n",
    "        print(yymm)"
   ]
  },
  {
   "cell_type": "code",
   "execution_count": null,
   "metadata": {},
   "outputs": [],
   "source": [
    "# 예제 3-30 데이터를 담을 빈 데이터프레임 만들기 \n",
    "df = pd.DataFrame()"
   ]
  },
  {
   "cell_type": "code",
   "execution_count": null,
   "metadata": {},
   "outputs": [],
   "source": [
    "# 예제 3-31 패턴 분석결과를 이중 반복문을 통해 구현\n",
    "for yy in range(2010, 2020):\n",
    "    for mm in range(1, 13):\n",
    "        temp = create_kto_data(str(yy), str(mm).zfill(2))\n",
    "        df = df.append(temp, ignore_index=True)"
   ]
  },
  {
   "cell_type": "code",
   "execution_count": null,
   "metadata": {},
   "outputs": [],
   "source": [
    "# 예제 3-32 df 데이터 head() 함수로 확인하기\n",
    "df.head()"
   ]
  },
  {
   "cell_type": "code",
   "execution_count": null,
   "metadata": {},
   "outputs": [],
   "source": [
    "# 예제 3-33 df 데이터 tail() 함수로 확인하기\n",
    "df.tail()"
   ]
  },
  {
   "cell_type": "code",
   "execution_count": null,
   "metadata": {},
   "outputs": [],
   "source": [
    "# 예제 3-34 통합 데이터 생성하기 \n",
    "df = pd.DataFrame()\n",
    "\n",
    "# 패턴 분석결과를 이중 반복문을 통해 구현 \n",
    "for yy in range(2010, 2020):\n",
    "    for mm in range(1, 13):\n",
    "        # try 이하 구문을 실행 \n",
    "        try:\n",
    "            # 앞서 만든 create_kto_data 함수로 Excel 데이터를 temp 에 불러오기 \n",
    "            temp = create_kto_data(str(yy), str(mm).zfill(2))\n",
    "\n",
    "            # temp 로 불러온 데이터를 df 밑으로 추가하기 \n",
    "            df = df.append(temp, ignore_index=True)\n",
    "        # 만약 try 구문에서 에러가 발생하면 except 이후를 실행 \n",
    "        except:\n",
    "            pass"
   ]
  },
  {
   "cell_type": "code",
   "execution_count": null,
   "metadata": {},
   "outputs": [],
   "source": [
    "# 예제 3-35 df 데이터 info() 함수로 확인하기 \n",
    "df.info()"
   ]
  },
  {
   "cell_type": "code",
   "execution_count": null,
   "metadata": {},
   "outputs": [],
   "source": [
    "# 예제 3-36 df 데이터 엑셀로 저장하기\n",
    "df.to_excel('./files/kto_total.xlsx', index = False)"
   ]
  }
 ],
 "metadata": {
  "kernelspec": {
   "display_name": "Python 3",
   "language": "python",
   "name": "python3"
  },
  "language_info": {
   "codemirror_mode": {
    "name": "ipython",
    "version": 3
   },
   "file_extension": ".py",
   "mimetype": "text/x-python",
   "name": "python",
   "nbconvert_exporter": "python",
   "pygments_lexer": "ipython3",
   "version": "3.7.6"
  }
 },
 "nbformat": 4,
 "nbformat_minor": 2
}
