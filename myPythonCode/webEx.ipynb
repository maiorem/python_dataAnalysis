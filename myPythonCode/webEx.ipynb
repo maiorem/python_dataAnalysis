{
 "cells": [
  {
   "cell_type": "code",
   "execution_count": 2,
   "metadata": {
    "ExecuteTime": {
     "end_time": "2021-04-04T05:27:30.915741Z",
     "start_time": "2021-04-04T05:27:30.598141Z"
    }
   },
   "outputs": [
    {
     "name": "stdout",
     "output_type": "stream",
     "text": [
      "2021년 04월 02일 16시 10분 기준 장마감\n",
      "종목명 삼성전자\n",
      "종목코드 005930 코스피\n",
      "현재가 84,800 전일대비 상승 1,900 플러스 2.29 퍼센트\n",
      "전일가 82,900\n",
      "시가 84,000\n",
      "고가 85,200\n",
      "상한가 107,500\n",
      "저가 83,900\n",
      "하한가 58,100\n",
      "거래량 22,887,392\n",
      "거래대금 1,938,248백만\n"
     ]
    }
   ],
   "source": [
    "import urllib.request\n",
    "import re\n",
    "\n",
    "url =\"https://finance.naver.com/item/main.nhn?code=005930\"\n",
    "html = urllib.request.urlopen(url)\n",
    "html_contents =str(html.read().decode(\"ms949\"))\n",
    "\n",
    "# 첫 번째 HTML 패턴\n",
    "stock_results = re.findall(\"(\\<dl class=\\\"blind\\\"\\>)([\\s\\S]+?)(\\<\\/dl\\>)\", html_contents)\n",
    "samsung_stock = stock_results[0]     # 두 개의 튜플 값 중 첫 번째 패턴\n",
    "samsung_index = samsung_stock[1]     # 세 개의 튜플 값 중 두 번째 패턴\n",
    "\n",
    "# 주식 정보만 추출함\n",
    "index_list= re.findall(\"(\\<dd\\>)([\\s\\S]+?)(\\<\\/dd\\>)\", samsung_index)\n",
    "\n",
    "for index in index_list:\n",
    "    print(index[1])                # 세 개의 튜플 값 중 두 번째 값\n"
   ]
  },
  {
   "cell_type": "code",
   "execution_count": 6,
   "metadata": {
    "ExecuteTime": {
     "end_time": "2021-04-04T05:37:52.993890Z",
     "start_time": "2021-04-04T05:37:50.326350Z"
    }
   },
   "outputs": [],
   "source": [
    "from selenium import webdriver\n",
    "driver = webdriver.Chrome('D:\\playwithdata\\chromedriver.exe')\n",
    "url = 'https://www.melon.com/chart/day/index.htm'\n",
    "driver.get(url)\n"
   ]
  },
  {
   "cell_type": "code",
   "execution_count": 7,
   "metadata": {
    "ExecuteTime": {
     "end_time": "2021-04-04T05:38:55.277855Z",
     "start_time": "2021-04-04T05:38:52.805336Z"
    }
   },
   "outputs": [],
   "source": [
    "from bs4 import BeautifulSoup\n",
    "html = driver.page_source\n",
    "soup = BeautifulSoup(html, 'html.parser')\n"
   ]
  },
  {
   "cell_type": "code",
   "execution_count": 8,
   "metadata": {
    "ExecuteTime": {
     "end_time": "2021-04-04T05:38:55.515531Z",
     "start_time": "2021-04-04T05:38:55.458682Z"
    }
   },
   "outputs": [
    {
     "name": "stdout",
     "output_type": "stream",
     "text": [
      "50\n",
      "<tr class=\"lst50\" data-song-no=\"33372781\" id=\"lst50\">\n",
      "<td><div class=\"wrap t_right\"><input class=\"input_check\" name=\"input_check\" title=\"라일락 곡 선택\" type=\"checkbox\" value=\"33372781\"/></div></td>\n",
      "<td><div class=\"wrap t_center\"><span class=\"rank\">1</span><span class=\"none\">위</span></div></td>\n",
      "<!-- 차트순위 추가 -->\n",
      "<td><div class=\"wrap\">\n",
      "<span class=\"rank_wrap\" title=\"순위 동일\">\n",
      "<span class=\"bullet_icons rank_static\"><span class=\"none\">순위 동일</span></span>\n",
      "<span class=\"none\">0</span>\n",
      "</span>\n",
      "</div></td>\n",
      "<td><div class=\"wrap\">\n",
      "<a class=\"image_typeAll\" href=\"javascript:melon.link.goAlbumDetail('10554246');\" title=\"IU 5th Album 'LILAC'\">\n",
      "<img alt=\"IU 5th Album 'LILAC' - 페이지 이동\" height=\"60\" onerror=\"WEBPOCIMG.defaultAlbumImg(this);\" src=\"https://cdnimg.melon.co.kr/cm2/album/images/105/54/246/10554246_20210325161233_500.jpg/melon/resize/120/quality/80/optimize\" width=\"60\"/>\n",
      "<span class=\"bg_album_frame\"></span>\n",
      "</a>\n",
      "</div></td>\n",
      "<td><div class=\"wrap\">\n",
      "<a class=\"btn button_icons type03 song_info\" href=\"javascript:melon.link.goSongDetail('33372781');\" title=\"라일락 곡정보\"><span class=\"none\">곡정보</span></a>\n",
      "</div></td>\n",
      "<td><div class=\"wrap\">\n",
      "<div class=\"wrap_song_info\">\n",
      "<div class=\"ellipsis rank01\"><span>\n",
      "<a href=\"javascript:melon.play.playSong('19041201',33372781);\" title=\"라일락 재생\">라일락</a>\n",
      "</span></div><br/>\n",
      "<div class=\"ellipsis rank02\">\n",
      "<a href=\"javascript:melon.link.goArtistDetail('261143');\" title=\"아이유 - 페이지 이동\">아이유</a><span class=\"checkEllipsis\" style=\"display: none;\"><a href=\"javascript:melon.link.goArtistDetail('261143');\" title=\"아이유 - 페이지 이동\">아이유</a></span>\n",
      "</div>\n",
      "</div>\n",
      "</div></td>\n",
      "<td><div class=\"wrap\">\n",
      "<div class=\"wrap_song_info\">\n",
      "<div class=\"ellipsis rank03\">\n",
      "<a href=\"javascript:melon.link.goAlbumDetail('10554246');\" title=\"IU 5th Album 'LILAC' - 페이지 이동\">IU 5th Album 'LILAC'</a>\n",
      "</div>\n",
      "</div>\n",
      "</div></td>\n",
      "<td><div class=\"wrap\">\n",
      "<button class=\"button_etc like\" data-song-menuid=\"19041201\" data-song-no=\"33372781\" title=\"라일락 좋아요\" type=\"button\"><span class=\"odd_span\">좋아요</span>\n",
      "<span class=\"cnt\">\n",
      "<span class=\"none\">총건수</span>\n",
      "128,718</span></button>\n",
      "</div></td>\n",
      "<td><div class=\"wrap t_center\">\n",
      "<button class=\"button_icons play\" onclick=\"melon.play.playSong('19041201',33372781);\" title=\"듣기\" type=\"button\"><span class=\"none\">듣기</span></button>\n",
      "</div></td>\n",
      "<td><div class=\"wrap t_center\">\n",
      "<button class=\"button_icons scrap\" onclick=\"melon.play.addPlayList('33372781');\" title=\"담기\" type=\"button\"><span class=\"none\">담기</span></button>\n",
      "</div></td>\n",
      "<td><div class=\"wrap t_center\">\n",
      "<button class=\"button_icons download\" onclick=\"melon.buy.goBuyProduct('frm', '33372781', '3C0001', '','0', '19041201');\" title=\"다운로드\" type=\"button\"><span class=\"none\">다운로드</span></button>\n",
      "</div></td>\n",
      "<td><div class=\"wrap t_center\">\n",
      "<button class=\"button_icons video\" onclick=\"melon.link.goMvDetail('19041201', '33372781','song');\" title=\"뮤직비디오\" type=\"button\"><span class=\"none\">뮤직비디오</span></button>\n",
      "</div></td>\n",
      "</tr>\n"
     ]
    }
   ],
   "source": [
    "songs = soup.select('#lst50')  \n",
    "print(len(songs))\n",
    "print(songs[0])"
   ]
  },
  {
   "cell_type": "code",
   "execution_count": 9,
   "metadata": {
    "ExecuteTime": {
     "end_time": "2021-04-04T05:39:03.191236Z",
     "start_time": "2021-04-04T05:39:03.181262Z"
    }
   },
   "outputs": [
    {
     "data": {
      "text/plain": [
       "'라일락'"
      ]
     },
     "execution_count": 9,
     "metadata": {},
     "output_type": "execute_result"
    }
   ],
   "source": [
    "title = songs[0].select('div.ellipsis.rank01 > span > a')[0].text\n",
    "title"
   ]
  },
  {
   "cell_type": "code",
   "execution_count": 10,
   "metadata": {
    "ExecuteTime": {
     "end_time": "2021-04-04T05:39:06.980922Z",
     "start_time": "2021-04-04T05:39:06.971057Z"
    }
   },
   "outputs": [
    {
     "data": {
      "text/plain": [
       "'아이유'"
      ]
     },
     "execution_count": 10,
     "metadata": {},
     "output_type": "execute_result"
    }
   ],
   "source": [
    "singer = songs[0].select('div.ellipsis.rank02 > a')[0].text\n",
    "singer\n"
   ]
  },
  {
   "cell_type": "code",
   "execution_count": 11,
   "metadata": {
    "ExecuteTime": {
     "end_time": "2021-04-04T05:39:09.854415Z",
     "start_time": "2021-04-04T05:39:09.804514Z"
    }
   },
   "outputs": [
    {
     "name": "stdout",
     "output_type": "stream",
     "text": [
      "라일락 | 아이유\n",
      "롤린 (Rollin') | 브레이브걸스\n",
      "Celebrity | 아이유\n",
      "Coin | 아이유\n",
      "On The Ground | 로제 (ROSÉ)\n",
      "LOVE DAY (2021) (바른연애 길잡이 X 양요섭, 정은지) | 양요섭\n",
      "내 손을 잡아 | 아이유\n",
      "Dynamite | 방탄소년단\n",
      "봄 안녕 봄 | 아이유\n",
      "Flu | 아이유\n",
      "밤하늘의 별을(2020) | 경서\n",
      "밝게 빛나는 별이 되어 비춰줄게 | 송이한\n",
      "아이와 나의 바다 | 아이유\n",
      "Peaches (Feat. Daniel Caesar & Giveon) | Justin Bieber\n",
      "돌림노래 (Feat. DEAN) | 아이유\n",
      "잠이 오질 않네요 | 장범준\n",
      "어푸 (Ah puh) | 아이유\n",
      "VVS (Feat. JUSTHIS) (Prod. GroovyRoom) | 미란이 (Mirani)\n",
      "취기를 빌려 (취향저격 그녀 X 산들) | 산들\n",
      "에잇(Prod.&Feat. SUGA of BTS) | 아이유\n",
      "Blueming | 아이유\n",
      "Lovesick Girls | BLACKPINK\n",
      "나랑 같이 걸을래 (바른연애 길잡이 X 적재) | 적재\n",
      "흔들리는 꽃들 속에서 네 샴푸향이 느껴진거야 | 장범준\n",
      "이 밤을 빌려 말해요 (바른연애 길잡이 X 10CM) | 10CM\n",
      "운전만해 (We Ride) | 브레이브걸스\n",
      "그날에 나는 맘이 편했을까 | 이예준\n",
      "에필로그 | 아이유\n",
      "오래된 노래 | 스탠딩 에그\n",
      "힘든 건 사랑이 아니다 | 임창정\n",
      "Gone | 로제 (ROSÉ)\n",
      "어떻게 이별까지 사랑하겠어, 널 사랑하는 거지 | AKMU (악동뮤지션)\n",
      "빈 컵 (Empty Cup) | 아이유\n",
      "봄날 | 방탄소년단\n",
      "Life Goes On | 방탄소년단\n",
      "사실 나는 (Feat.전건호) | 경서예지\n",
      "Savage Love (Laxed - Siren Beat) (BTS Remix) | Jawsh 685\n",
      "METEOR | 창모 (CHANGMO)\n",
      "모든 날, 모든 순간 (Every day, Every Moment) | 폴킴\n",
      "추억은 만남보다 이별에 남아 | 정동하\n",
      "고백 (바른연애 길잡이 X 허각) | 허각\n",
      "Dolphin | 오마이걸 (OH MY GIRL)\n",
      "어떻게 지내 (Prod. By VAN.C) | 오반 (OVAN)\n",
      "12:45 (Stripped) | Etham\n",
      "2002 | Anne-Marie\n",
      "내 마음이 움찔했던 순간 (취향저격 그녀 X 규현) | 규현 (KYUHYUN)\n",
      "함께 했는데 이별은 나 혼자인 거야 | 소정 (레이디스 코드)\n",
      "늦은 밤 너의 집 앞 골목길에서 | 노을\n",
      "오늘도 빛나는 너에게 (To You My Light) (Feat.이라온) | 마크툽 (MAKTUB)\n",
      "너의 번호를 누르고 (Prod. 영화처럼) | #안녕\n"
     ]
    }
   ],
   "source": [
    "for song in songs:                                        \n",
    "    title = song.select('div.ellipsis.rank01 > span > a')[0].text\n",
    "    singer = song.select ('div.ellipsis.rank02 > a')[0].text  \n",
    "    print(title, singer, sep = ' | ')\n"
   ]
  },
  {
   "cell_type": "code",
   "execution_count": 13,
   "metadata": {
    "ExecuteTime": {
     "end_time": "2021-04-04T05:47:41.535814Z",
     "start_time": "2021-04-04T05:47:36.998699Z"
    }
   },
   "outputs": [
    {
     "name": "stdout",
     "output_type": "stream",
     "text": [
      "라일락 | 아이유\n",
      "롤린 (Rollin') | 브레이브걸스\n",
      "Celebrity | 아이유\n",
      "Coin | 아이유\n",
      "On The Ground | 로제 (ROSÉ)\n",
      "LOVE DAY (2021) (바른연애 길잡이 X 양요섭, 정은지) | 양요섭\n",
      "내 손을 잡아 | 아이유\n",
      "Dynamite | 방탄소년단\n",
      "봄 안녕 봄 | 아이유\n",
      "Flu | 아이유\n",
      "밤하늘의 별을(2020) | 경서\n",
      "밝게 빛나는 별이 되어 비춰줄게 | 송이한\n",
      "아이와 나의 바다 | 아이유\n",
      "Peaches (Feat. Daniel Caesar & Giveon) | Justin Bieber\n",
      "돌림노래 (Feat. DEAN) | 아이유\n",
      "잠이 오질 않네요 | 장범준\n",
      "어푸 (Ah puh) | 아이유\n",
      "VVS (Feat. JUSTHIS) (Prod. GroovyRoom) | 미란이 (Mirani)\n",
      "취기를 빌려 (취향저격 그녀 X 산들) | 산들\n",
      "에잇(Prod.&Feat. SUGA of BTS) | 아이유\n",
      "Blueming | 아이유\n",
      "Lovesick Girls | BLACKPINK\n",
      "나랑 같이 걸을래 (바른연애 길잡이 X 적재) | 적재\n",
      "흔들리는 꽃들 속에서 네 샴푸향이 느껴진거야 | 장범준\n",
      "이 밤을 빌려 말해요 (바른연애 길잡이 X 10CM) | 10CM\n",
      "운전만해 (We Ride) | 브레이브걸스\n",
      "그날에 나는 맘이 편했을까 | 이예준\n",
      "에필로그 | 아이유\n",
      "오래된 노래 | 스탠딩 에그\n",
      "힘든 건 사랑이 아니다 | 임창정\n",
      "Gone | 로제 (ROSÉ)\n",
      "어떻게 이별까지 사랑하겠어, 널 사랑하는 거지 | AKMU (악동뮤지션)\n",
      "빈 컵 (Empty Cup) | 아이유\n",
      "봄날 | 방탄소년단\n",
      "Life Goes On | 방탄소년단\n",
      "사실 나는 (Feat.전건호) | 경서예지\n",
      "Savage Love (Laxed - Siren Beat) (BTS Remix) | Jawsh 685\n",
      "METEOR | 창모 (CHANGMO)\n",
      "모든 날, 모든 순간 (Every day, Every Moment) | 폴킴\n",
      "추억은 만남보다 이별에 남아 | 정동하\n",
      "고백 (바른연애 길잡이 X 허각) | 허각\n",
      "Dolphin | 오마이걸 (OH MY GIRL)\n",
      "어떻게 지내 (Prod. By VAN.C) | 오반 (OVAN)\n",
      "12:45 (Stripped) | Etham\n",
      "2002 | Anne-Marie\n",
      "내 마음이 움찔했던 순간 (취향저격 그녀 X 규현) | 규현 (KYUHYUN)\n",
      "함께 했는데 이별은 나 혼자인 거야 | 소정 (레이디스 코드)\n",
      "늦은 밤 너의 집 앞 골목길에서 | 노을\n",
      "오늘도 빛나는 너에게 (To You My Light) (Feat.이라온) | 마크툽 (MAKTUB)\n",
      "너의 번호를 누르고 (Prod. 영화처럼) | #안녕\n"
     ]
    }
   ],
   "source": [
    "driver = webdriver.Chrome('d:/playwithdata/chromedriver.exe')     \n",
    "url = 'https://www.melon.com/chart/day/index.htm'\n",
    "driver.get(url)          \n",
    "                                \n",
    "songs = driver.find_elements_by_css_selector('#lst50')      \n",
    "for song in songs:                                        \n",
    "    title = song.find_elements_by_css_selector('div.ellipsis.rank01 > span > a')[0].text\n",
    "    singer = song.find_elements_by_css_selector('div.ellipsis.rank02 > a')[0].text  \n",
    "    print(title, singer, sep = ' | ')\n"
   ]
  },
  {
   "cell_type": "code",
   "execution_count": null,
   "metadata": {},
   "outputs": [],
   "source": []
  }
 ],
 "metadata": {
  "kernelspec": {
   "display_name": "Python 3",
   "language": "python",
   "name": "python3"
  },
  "language_info": {
   "codemirror_mode": {
    "name": "ipython",
    "version": 3
   },
   "file_extension": ".py",
   "mimetype": "text/x-python",
   "name": "python",
   "nbconvert_exporter": "python",
   "pygments_lexer": "ipython3",
   "version": "3.8.5"
  },
  "toc": {
   "base_numbering": 1,
   "nav_menu": {},
   "number_sections": true,
   "sideBar": true,
   "skip_h1_title": false,
   "title_cell": "Table of Contents",
   "title_sidebar": "Contents",
   "toc_cell": false,
   "toc_position": {},
   "toc_section_display": true,
   "toc_window_display": false
  },
  "varInspector": {
   "cols": {
    "lenName": 16,
    "lenType": 16,
    "lenVar": 40
   },
   "kernels_config": {
    "python": {
     "delete_cmd_postfix": "",
     "delete_cmd_prefix": "del ",
     "library": "var_list.py",
     "varRefreshCmd": "print(var_dic_list())"
    },
    "r": {
     "delete_cmd_postfix": ") ",
     "delete_cmd_prefix": "rm(",
     "library": "var_list.r",
     "varRefreshCmd": "cat(var_dic_list()) "
    }
   },
   "types_to_exclude": [
    "module",
    "function",
    "builtin_function_or_method",
    "instance",
    "_Feature"
   ],
   "window_display": false
  }
 },
 "nbformat": 4,
 "nbformat_minor": 4
}
